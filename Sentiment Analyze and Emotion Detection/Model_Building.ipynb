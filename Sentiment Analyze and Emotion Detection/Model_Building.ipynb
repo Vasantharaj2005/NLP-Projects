{
 "cells": [
  {
   "cell_type": "code",
   "execution_count": 1,
   "metadata": {},
   "outputs": [],
   "source": [
    "import pandas as pd\n",
    "from nltk.corpus import stopwords\n",
    "from textblob import TextBlob\n",
    "import nltk\n",
    "import pickle"
   ]
  },
  {
   "cell_type": "code",
   "execution_count": 16,
   "metadata": {},
   "outputs": [],
   "source": [
    "twt = pd.read_json(\"D:/NLP/Twitter Data Collection/deepseek ai.json\",lines=True,orient='records')\n",
    "twt = twt[['created_at','text']]"
   ]
  },
  {
   "cell_type": "code",
   "execution_count": 17,
   "metadata": {},
   "outputs": [
    {
     "data": {
      "text/html": [
       "<div>\n",
       "<style scoped>\n",
       "    .dataframe tbody tr th:only-of-type {\n",
       "        vertical-align: middle;\n",
       "    }\n",
       "\n",
       "    .dataframe tbody tr th {\n",
       "        vertical-align: top;\n",
       "    }\n",
       "\n",
       "    .dataframe thead th {\n",
       "        text-align: right;\n",
       "    }\n",
       "</style>\n",
       "<table border=\"1\" class=\"dataframe\">\n",
       "  <thead>\n",
       "    <tr style=\"text-align: right;\">\n",
       "      <th></th>\n",
       "      <th>created_at</th>\n",
       "      <th>text</th>\n",
       "    </tr>\n",
       "  </thead>\n",
       "  <tbody>\n",
       "    <tr>\n",
       "      <th>95</th>\n",
       "      <td>2025-02-18 15:50:38+00:00</td>\n",
       "      <td>He has an impressive track record and was also...</td>\n",
       "    </tr>\n",
       "    <tr>\n",
       "      <th>96</th>\n",
       "      <td>2025-02-18 15:50:35+00:00</td>\n",
       "      <td>RT @xDaily: THREAD: Here's a breakdown of what...</td>\n",
       "    </tr>\n",
       "    <tr>\n",
       "      <th>97</th>\n",
       "      <td>2025-02-18 15:50:35+00:00</td>\n",
       "      <td>@jerryHsome \"Hey there! 👋 Drop a 'Hello' to di...</td>\n",
       "    </tr>\n",
       "    <tr>\n",
       "      <th>98</th>\n",
       "      <td>2025-02-18 15:50:31+00:00</td>\n",
       "      <td>RT @R5Z5G: 🎯欢迎喜欢二级市场的朋友们一起来加入本次的分享会\\n\\n明天晚上9点(...</td>\n",
       "    </tr>\n",
       "    <tr>\n",
       "      <th>99</th>\n",
       "      <td>2025-02-18 15:50:30+00:00</td>\n",
       "      <td>@LeadingMaths \"Hey there! 👋 Drop a 'Hello' to ...</td>\n",
       "    </tr>\n",
       "  </tbody>\n",
       "</table>\n",
       "</div>"
      ],
      "text/plain": [
       "                  created_at  \\\n",
       "95 2025-02-18 15:50:38+00:00   \n",
       "96 2025-02-18 15:50:35+00:00   \n",
       "97 2025-02-18 15:50:35+00:00   \n",
       "98 2025-02-18 15:50:31+00:00   \n",
       "99 2025-02-18 15:50:30+00:00   \n",
       "\n",
       "                                                 text  \n",
       "95  He has an impressive track record and was also...  \n",
       "96  RT @xDaily: THREAD: Here's a breakdown of what...  \n",
       "97  @jerryHsome \"Hey there! 👋 Drop a 'Hello' to di...  \n",
       "98  RT @R5Z5G: 🎯欢迎喜欢二级市场的朋友们一起来加入本次的分享会\\n\\n明天晚上9点(...  \n",
       "99  @LeadingMaths \"Hey there! 👋 Drop a 'Hello' to ...  "
      ]
     },
     "execution_count": 17,
     "metadata": {},
     "output_type": "execute_result"
    }
   ],
   "source": [
    "twt.tail()"
   ]
  },
  {
   "cell_type": "code",
   "execution_count": 19,
   "metadata": {},
   "outputs": [
    {
     "data": {
      "text/html": [
       "<div>\n",
       "<style scoped>\n",
       "    .dataframe tbody tr th:only-of-type {\n",
       "        vertical-align: middle;\n",
       "    }\n",
       "\n",
       "    .dataframe tbody tr th {\n",
       "        vertical-align: top;\n",
       "    }\n",
       "\n",
       "    .dataframe thead th {\n",
       "        text-align: right;\n",
       "    }\n",
       "</style>\n",
       "<table border=\"1\" class=\"dataframe\">\n",
       "  <thead>\n",
       "    <tr style=\"text-align: right;\">\n",
       "      <th></th>\n",
       "      <th>created_at</th>\n",
       "      <th>text</th>\n",
       "    </tr>\n",
       "  </thead>\n",
       "  <tbody>\n",
       "    <tr>\n",
       "      <th>95</th>\n",
       "      <td>2025-02-18 15:50:38+00:00</td>\n",
       "      <td>impressive track record also involved early de...</td>\n",
       "    </tr>\n",
       "    <tr>\n",
       "      <th>96</th>\n",
       "      <td>2025-02-18 15:50:35+00:00</td>\n",
       "      <td>rt @xdaily: thread: here's breakdown got annou...</td>\n",
       "    </tr>\n",
       "    <tr>\n",
       "      <th>97</th>\n",
       "      <td>2025-02-18 15:50:35+00:00</td>\n",
       "      <td>@jerryhsome \"hey there! 👋 drop 'hello' discove...</td>\n",
       "    </tr>\n",
       "    <tr>\n",
       "      <th>98</th>\n",
       "      <td>2025-02-18 15:50:31+00:00</td>\n",
       "      <td>rt @r5z5g: 🎯欢迎喜欢二级市场的朋友们一起来加入本次的分享会 明天晚上9点(北京/...</td>\n",
       "    </tr>\n",
       "    <tr>\n",
       "      <th>99</th>\n",
       "      <td>2025-02-18 15:50:30+00:00</td>\n",
       "      <td>@leadingmaths \"hey there! 👋 drop 'hello' disco...</td>\n",
       "    </tr>\n",
       "  </tbody>\n",
       "</table>\n",
       "</div>"
      ],
      "text/plain": [
       "                  created_at  \\\n",
       "95 2025-02-18 15:50:38+00:00   \n",
       "96 2025-02-18 15:50:35+00:00   \n",
       "97 2025-02-18 15:50:35+00:00   \n",
       "98 2025-02-18 15:50:31+00:00   \n",
       "99 2025-02-18 15:50:30+00:00   \n",
       "\n",
       "                                                 text  \n",
       "95  impressive track record also involved early de...  \n",
       "96  rt @xdaily: thread: here's breakdown got annou...  \n",
       "97  @jerryhsome \"hey there! 👋 drop 'hello' discove...  \n",
       "98  rt @r5z5g: 🎯欢迎喜欢二级市场的朋友们一起来加入本次的分享会 明天晚上9点(北京/...  \n",
       "99  @leadingmaths \"hey there! 👋 drop 'hello' disco...  "
      ]
     },
     "execution_count": 19,
     "metadata": {},
     "output_type": "execute_result"
    }
   ],
   "source": [
    "#text processing of the twitter data\n",
    "twt['text'] = twt['text'].str.lstrip('0123456789')\n",
    "\n",
    "#lower casing\n",
    "twt['text'] = twt['text'].apply(lambda a: \" \".join(a.lower() for a in a.split()))\n",
    "\n",
    "#remove the punctuation\n",
    "twt['text'] = twt['text'].str.replace('[^\\w\\s]',' ')\n",
    "\n",
    "#remvove the stop words\n",
    "sw = stopwords.words('english')\n",
    "twt['text'] = twt['text'].apply(lambda a: \" \".join(a for a in a.split() if a not in sw))\n",
    "\n",
    "#spelling correction\n",
    "twt['text'].apply(lambda a: str(TextBlob(a).correct()))\n",
    "\n",
    "twt.tail()"
   ]
  },
  {
   "cell_type": "code",
   "execution_count": 20,
   "metadata": {},
   "outputs": [
    {
     "name": "stdout",
     "output_type": "stream",
     "text": [
      "Model loaded successfully!\n"
     ]
    },
    {
     "name": "stderr",
     "output_type": "stream",
     "text": [
      "c:\\Users\\vasan\\anaconda3\\envs\\MachineLearning\\Lib\\site-packages\\sklearn\\base.py:376: InconsistentVersionWarning:\n",
      "\n",
      "Trying to unpickle estimator LogisticRegression from version 1.6.1 when using version 1.5.1. This might lead to breaking code or invalid results. Use at your own risk. For more info please refer to:\n",
      "https://scikit-learn.org/stable/model_persistence.html#security-maintainability-limitations\n",
      "\n",
      "c:\\Users\\vasan\\anaconda3\\envs\\MachineLearning\\Lib\\site-packages\\sklearn\\base.py:376: InconsistentVersionWarning:\n",
      "\n",
      "Trying to unpickle estimator TfidfTransformer from version 1.6.1 when using version 1.5.1. This might lead to breaking code or invalid results. Use at your own risk. For more info please refer to:\n",
      "https://scikit-learn.org/stable/model_persistence.html#security-maintainability-limitations\n",
      "\n",
      "c:\\Users\\vasan\\anaconda3\\envs\\MachineLearning\\Lib\\site-packages\\sklearn\\base.py:376: InconsistentVersionWarning:\n",
      "\n",
      "Trying to unpickle estimator TfidfVectorizer from version 1.6.1 when using version 1.5.1. This might lead to breaking code or invalid results. Use at your own risk. For more info please refer to:\n",
      "https://scikit-learn.org/stable/model_persistence.html#security-maintainability-limitations\n",
      "\n"
     ]
    }
   ],
   "source": [
    "# Load the model from file\n",
    "with open(\"twittermodel.save\", \"rb\") as f:\n",
    "    model = pickle.load(f)\n",
    "\n",
    "with open(\"tfidf_vectorizer.pkl\", \"rb\") as f:\n",
    "    tf = pickle.load(f)\n",
    "\n",
    "# Now, 'model' contains your loaded machine learning model\n",
    "print(\"Model loaded successfully!\")"
   ]
  },
  {
   "cell_type": "code",
   "execution_count": 21,
   "metadata": {},
   "outputs": [],
   "source": [
    "\n",
    "Xpredict = twt['text']\n",
    "predict_tfidf = tf.transform(Xpredict)"
   ]
  },
  {
   "cell_type": "code",
   "execution_count": 22,
   "metadata": {},
   "outputs": [],
   "source": [
    "twt['EMOTION'] = model.predict(predict_tfidf)"
   ]
  },
  {
   "cell_type": "code",
   "execution_count": 23,
   "metadata": {},
   "outputs": [
    {
     "data": {
      "text/html": [
       "<div>\n",
       "<style scoped>\n",
       "    .dataframe tbody tr th:only-of-type {\n",
       "        vertical-align: middle;\n",
       "    }\n",
       "\n",
       "    .dataframe tbody tr th {\n",
       "        vertical-align: top;\n",
       "    }\n",
       "\n",
       "    .dataframe thead th {\n",
       "        text-align: right;\n",
       "    }\n",
       "</style>\n",
       "<table border=\"1\" class=\"dataframe\">\n",
       "  <thead>\n",
       "    <tr style=\"text-align: right;\">\n",
       "      <th></th>\n",
       "      <th>created_at</th>\n",
       "      <th>text</th>\n",
       "      <th>EMOTION</th>\n",
       "    </tr>\n",
       "  </thead>\n",
       "  <tbody>\n",
       "    <tr>\n",
       "      <th>95</th>\n",
       "      <td>2025-02-18 15:50:38+00:00</td>\n",
       "      <td>impressive track record also involved early de...</td>\n",
       "      <td>1</td>\n",
       "    </tr>\n",
       "    <tr>\n",
       "      <th>96</th>\n",
       "      <td>2025-02-18 15:50:35+00:00</td>\n",
       "      <td>rt @xdaily: thread: here's breakdown got annou...</td>\n",
       "      <td>1</td>\n",
       "    </tr>\n",
       "    <tr>\n",
       "      <th>97</th>\n",
       "      <td>2025-02-18 15:50:35+00:00</td>\n",
       "      <td>@jerryhsome \"hey there! 👋 drop 'hello' discove...</td>\n",
       "      <td>5</td>\n",
       "    </tr>\n",
       "    <tr>\n",
       "      <th>98</th>\n",
       "      <td>2025-02-18 15:50:31+00:00</td>\n",
       "      <td>rt @r5z5g: 🎯欢迎喜欢二级市场的朋友们一起来加入本次的分享会 明天晚上9点(北京/...</td>\n",
       "      <td>1</td>\n",
       "    </tr>\n",
       "    <tr>\n",
       "      <th>99</th>\n",
       "      <td>2025-02-18 15:50:30+00:00</td>\n",
       "      <td>@leadingmaths \"hey there! 👋 drop 'hello' disco...</td>\n",
       "      <td>5</td>\n",
       "    </tr>\n",
       "  </tbody>\n",
       "</table>\n",
       "</div>"
      ],
      "text/plain": [
       "                  created_at  \\\n",
       "95 2025-02-18 15:50:38+00:00   \n",
       "96 2025-02-18 15:50:35+00:00   \n",
       "97 2025-02-18 15:50:35+00:00   \n",
       "98 2025-02-18 15:50:31+00:00   \n",
       "99 2025-02-18 15:50:30+00:00   \n",
       "\n",
       "                                                 text  EMOTION  \n",
       "95  impressive track record also involved early de...        1  \n",
       "96  rt @xdaily: thread: here's breakdown got annou...        1  \n",
       "97  @jerryhsome \"hey there! 👋 drop 'hello' discove...        5  \n",
       "98  rt @r5z5g: 🎯欢迎喜欢二级市场的朋友们一起来加入本次的分享会 明天晚上9点(北京/...        1  \n",
       "99  @leadingmaths \"hey there! 👋 drop 'hello' disco...        5  "
      ]
     },
     "execution_count": 23,
     "metadata": {},
     "output_type": "execute_result"
    }
   ],
   "source": [
    "twt.tail()"
   ]
  },
  {
   "cell_type": "code",
   "execution_count": 24,
   "metadata": {},
   "outputs": [],
   "source": [
    "twt['sentiment'] = twt['text'].apply(lambda a: TextBlob(a).sentiment[0])"
   ]
  },
  {
   "cell_type": "code",
   "execution_count": 25,
   "metadata": {},
   "outputs": [],
   "source": [
    "def function(value):\n",
    "    \n",
    "    if(value['sentiment']<0):\n",
    "        return \"Negative\"\n",
    "    if(value['sentiment']>0):\n",
    "        return \"Postive\"\n",
    "    return \"Netural\""
   ]
  },
  {
   "cell_type": "code",
   "execution_count": 26,
   "metadata": {},
   "outputs": [
    {
     "data": {
      "text/html": [
       "<div>\n",
       "<style scoped>\n",
       "    .dataframe tbody tr th:only-of-type {\n",
       "        vertical-align: middle;\n",
       "    }\n",
       "\n",
       "    .dataframe tbody tr th {\n",
       "        vertical-align: top;\n",
       "    }\n",
       "\n",
       "    .dataframe thead th {\n",
       "        text-align: right;\n",
       "    }\n",
       "</style>\n",
       "<table border=\"1\" class=\"dataframe\">\n",
       "  <thead>\n",
       "    <tr style=\"text-align: right;\">\n",
       "      <th></th>\n",
       "      <th>created_at</th>\n",
       "      <th>text</th>\n",
       "      <th>EMOTION</th>\n",
       "      <th>sentiment</th>\n",
       "      <th>Sentiment_label</th>\n",
       "    </tr>\n",
       "  </thead>\n",
       "  <tbody>\n",
       "    <tr>\n",
       "      <th>0</th>\n",
       "      <td>2025-02-18 15:55:24+00:00</td>\n",
       "      <td>@facelesschems deepseek ai checker one group?</td>\n",
       "      <td>1</td>\n",
       "      <td>0.000000</td>\n",
       "      <td>Netural</td>\n",
       "    </tr>\n",
       "    <tr>\n",
       "      <th>1</th>\n",
       "      <td>2025-02-18 15:55:22+00:00</td>\n",
       "      <td>rt @oposisicerdas: siap tandingi chatgpt dan d...</td>\n",
       "      <td>1</td>\n",
       "      <td>0.000000</td>\n",
       "      <td>Netural</td>\n",
       "    </tr>\n",
       "    <tr>\n",
       "      <th>2</th>\n",
       "      <td>2025-02-18 15:55:17+00:00</td>\n",
       "      <td>🚀 bonus unit alert 🚀 𝐅𝐢𝐧𝐞-𝐭𝐮𝐧𝐢𝐧𝐠 𝐲𝐨𝐮𝐫 𝐦𝐨𝐝𝐞𝐥 𝐟𝐨...</td>\n",
       "      <td>1</td>\n",
       "      <td>-0.050000</td>\n",
       "      <td>Negative</td>\n",
       "    </tr>\n",
       "    <tr>\n",
       "      <th>3</th>\n",
       "      <td>2025-02-18 15:55:11+00:00</td>\n",
       "      <td>rt @r5z5g: 🎯欢迎喜欢二级市场的朋友们一起来加入本次的分享会 明天晚上9点(北京/...</td>\n",
       "      <td>1</td>\n",
       "      <td>0.000000</td>\n",
       "      <td>Netural</td>\n",
       "    </tr>\n",
       "    <tr>\n",
       "      <th>4</th>\n",
       "      <td>2025-02-18 15:55:08+00:00</td>\n",
       "      <td>@milichaengs @cnbcindonesia cool🆒 explore dept...</td>\n",
       "      <td>1</td>\n",
       "      <td>0.283333</td>\n",
       "      <td>Postive</td>\n",
       "    </tr>\n",
       "    <tr>\n",
       "      <th>5</th>\n",
       "      <td>2025-02-18 15:55:06+00:00</td>\n",
       "      <td>cancelled chatgpt subscription got premium+ ge...</td>\n",
       "      <td>3</td>\n",
       "      <td>0.220000</td>\n",
       "      <td>Postive</td>\n",
       "    </tr>\n",
       "    <tr>\n",
       "      <th>6</th>\n",
       "      <td>2025-02-18 15:55:05+00:00</td>\n",
       "      <td>deepseek 就是ai界的中国太监，中国独有，肯定与世界不同，当然心理变态，思想更不完整...</td>\n",
       "      <td>1</td>\n",
       "      <td>0.000000</td>\n",
       "      <td>Netural</td>\n",
       "    </tr>\n",
       "    <tr>\n",
       "      <th>7</th>\n",
       "      <td>2025-02-18 15:54:58+00:00</td>\n",
       "      <td>rt @deliprao: deepseek fearlessly puts innovat...</td>\n",
       "      <td>1</td>\n",
       "      <td>0.450000</td>\n",
       "      <td>Postive</td>\n",
       "    </tr>\n",
       "    <tr>\n",
       "      <th>8</th>\n",
       "      <td>2025-02-18 15:54:55+00:00</td>\n",
       "      <td>@agentcookiefun @elixers_mind @sharpelabs @age...</td>\n",
       "      <td>1</td>\n",
       "      <td>0.000000</td>\n",
       "      <td>Netural</td>\n",
       "    </tr>\n",
       "    <tr>\n",
       "      <th>9</th>\n",
       "      <td>2025-02-18 15:54:54+00:00</td>\n",
       "      <td>@liebgodt cool🆒 explore depths ai 💓💓💓https://t...</td>\n",
       "      <td>1</td>\n",
       "      <td>0.283333</td>\n",
       "      <td>Postive</td>\n",
       "    </tr>\n",
       "  </tbody>\n",
       "</table>\n",
       "</div>"
      ],
      "text/plain": [
       "                 created_at  \\\n",
       "0 2025-02-18 15:55:24+00:00   \n",
       "1 2025-02-18 15:55:22+00:00   \n",
       "2 2025-02-18 15:55:17+00:00   \n",
       "3 2025-02-18 15:55:11+00:00   \n",
       "4 2025-02-18 15:55:08+00:00   \n",
       "5 2025-02-18 15:55:06+00:00   \n",
       "6 2025-02-18 15:55:05+00:00   \n",
       "7 2025-02-18 15:54:58+00:00   \n",
       "8 2025-02-18 15:54:55+00:00   \n",
       "9 2025-02-18 15:54:54+00:00   \n",
       "\n",
       "                                                text  EMOTION  sentiment  \\\n",
       "0      @facelesschems deepseek ai checker one group?        1   0.000000   \n",
       "1  rt @oposisicerdas: siap tandingi chatgpt dan d...        1   0.000000   \n",
       "2  🚀 bonus unit alert 🚀 𝐅𝐢𝐧𝐞-𝐭𝐮𝐧𝐢𝐧𝐠 𝐲𝐨𝐮𝐫 𝐦𝐨𝐝𝐞𝐥 𝐟𝐨...        1  -0.050000   \n",
       "3  rt @r5z5g: 🎯欢迎喜欢二级市场的朋友们一起来加入本次的分享会 明天晚上9点(北京/...        1   0.000000   \n",
       "4  @milichaengs @cnbcindonesia cool🆒 explore dept...        1   0.283333   \n",
       "5  cancelled chatgpt subscription got premium+ ge...        3   0.220000   \n",
       "6  deepseek 就是ai界的中国太监，中国独有，肯定与世界不同，当然心理变态，思想更不完整...        1   0.000000   \n",
       "7  rt @deliprao: deepseek fearlessly puts innovat...        1   0.450000   \n",
       "8  @agentcookiefun @elixers_mind @sharpelabs @age...        1   0.000000   \n",
       "9  @liebgodt cool🆒 explore depths ai 💓💓💓https://t...        1   0.283333   \n",
       "\n",
       "  Sentiment_label  \n",
       "0         Netural  \n",
       "1         Netural  \n",
       "2        Negative  \n",
       "3         Netural  \n",
       "4         Postive  \n",
       "5         Postive  \n",
       "6         Netural  \n",
       "7         Postive  \n",
       "8         Netural  \n",
       "9         Postive  "
      ]
     },
     "execution_count": 26,
     "metadata": {},
     "output_type": "execute_result"
    }
   ],
   "source": [
    "twt['Sentiment_label'] = twt.apply(lambda a: function(a),axis=1)\n",
    "twt.head(10)"
   ]
  },
  {
   "cell_type": "markdown",
   "metadata": {},
   "source": [
    "Visualization and Insights"
   ]
  },
  {
   "cell_type": "code",
   "execution_count": 27,
   "metadata": {},
   "outputs": [
    {
     "data": {
      "text/html": [
       "        <script type=\"text/javascript\">\n",
       "        window.PlotlyConfig = {MathJaxConfig: 'local'};\n",
       "        if (window.MathJax && window.MathJax.Hub && window.MathJax.Hub.Config) {window.MathJax.Hub.Config({SVG: {font: \"STIX-Web\"}});}\n",
       "        if (typeof require !== 'undefined') {\n",
       "        require.undef(\"plotly\");\n",
       "        requirejs.config({\n",
       "            paths: {\n",
       "                'plotly': ['https://cdn.plot.ly/plotly-2.32.0.min']\n",
       "            }\n",
       "        });\n",
       "        require(['plotly'], function(Plotly) {\n",
       "            window._Plotly = Plotly;\n",
       "        });\n",
       "        }\n",
       "        </script>\n",
       "        "
      ]
     },
     "metadata": {},
     "output_type": "display_data"
    },
    {
     "data": {
      "text/plain": [
       "'Sentiment.html'"
      ]
     },
     "execution_count": 27,
     "metadata": {},
     "output_type": "execute_result"
    }
   ],
   "source": [
    "import plotly.graph_objs as go  # Import Plotly for plotting\n",
    "import cufflinks as cf           # For interactive plotting\n",
    "from plotly.offline import plot  # Import plot for offline plotting\n",
    "import pandas as pd             # Ensure pandas is imported\n",
    "\n",
    "# Configure cufflinks for offline plotting with a white theme\n",
    "cf.set_config_file(offline=True, world_readable=True, theme='white')\n",
    "\n",
    "# Assuming 'twt' DataFrame has a column 'Sentiment_label' which contains sentiment labels\n",
    "Sentiment_df = twt['Sentiment_label'].value_counts().reset_index()  # Corrected pd.add()\n",
    "Sentiment_df.columns = ['Sentiment', 'Count']  # Renaming columns for clarity\n",
    "Sentiment_df = pd.DataFrame(Sentiment_df)\n",
    "Sentiment_df['Percentage'] = 100 * Sentiment_df['Count'] / Sentiment_df['Count'].sum()\n",
    "\n",
    "# Sentiment analysis metrics for displaying\n",
    "Sentiment_Max = Sentiment_df.iloc[0, 0]  # The sentiment label with max count\n",
    "Sentiment_percent = str(round(Sentiment_df.iloc[0, 2], 2))  # The percentage for max sentiment\n",
    "\n",
    "# Create the pie chart figure using cufflinks (iplot)\n",
    "fig1 = Sentiment_df.iplot(kind='pie', labels='Sentiment', values='Count',\n",
    "                          textinfo='label+percent', title='Sentiment Analysis', asFigure=True)\n",
    "\n",
    "# Display the plot offline\n",
    "plot(fig1, filename='Sentiment.html')  # This will create a file 'Sentiment.html' to view"
   ]
  },
  {
   "cell_type": "code",
   "execution_count": 29,
   "metadata": {},
   "outputs": [
    {
     "data": {
      "text/html": [
       "        <script type=\"text/javascript\">\n",
       "        window.PlotlyConfig = {MathJaxConfig: 'local'};\n",
       "        if (window.MathJax && window.MathJax.Hub && window.MathJax.Hub.Config) {window.MathJax.Hub.Config({SVG: {font: \"STIX-Web\"}});}\n",
       "        if (typeof require !== 'undefined') {\n",
       "        require.undef(\"plotly\");\n",
       "        requirejs.config({\n",
       "            paths: {\n",
       "                'plotly': ['https://cdn.plot.ly/plotly-2.32.0.min']\n",
       "            }\n",
       "        });\n",
       "        require(['plotly'], function(Plotly) {\n",
       "            window._Plotly = Plotly;\n",
       "        });\n",
       "        }\n",
       "        </script>\n",
       "        "
      ]
     },
     "metadata": {},
     "output_type": "display_data"
    },
    {
     "name": "stderr",
     "output_type": "stream",
     "text": [
      "c:\\Users\\vasan\\anaconda3\\envs\\MachineLearning\\Lib\\site-packages\\plotly\\offline\\offline.py:557: UserWarning:\n",
      "\n",
      "Your filename `Emotion` didn't end with .html. Adding .html to the end of your file.\n",
      "\n"
     ]
    },
    {
     "data": {
      "text/plain": [
       "'Emotion.html'"
      ]
     },
     "execution_count": 29,
     "metadata": {},
     "output_type": "execute_result"
    }
   ],
   "source": [
    "import chart_studio.plotly as py\n",
    "import plotly as ply\n",
    "import cufflinks as cf\n",
    "from plotly.graph_objs import *\n",
    "from plotly.offline import *\n",
    "\n",
    "# Configure cufflinks for offline plotting with a white theme\n",
    "cf.set_config_file(offline=True, world_readable=True, theme='white')\n",
    "\n",
    "# Define the mapping for numeric values to emotions\n",
    "emotion_map = {\n",
    "    0: 'sadness',\n",
    "    1: 'joy',\n",
    "    2: 'love',\n",
    "    3: 'anger',\n",
    "    4: 'fear',\n",
    "    5: 'surprise'\n",
    "}\n",
    "\n",
    "# Replace the numeric values with their corresponding emotion labels\n",
    "twt['EMOTION'] = twt['EMOTION'].replace(emotion_map)\n",
    "\n",
    "# Prepare the DataFrame for plotting\n",
    "Emotion_df = pd.DataFrame(twt.EMOTION.value_counts().reset_index())\n",
    "Emotion_df.columns = [\"EMOTION\", \"Count\"]\n",
    "Emotion_df['Percentage'] = 100 * Emotion_df['Count'] / Emotion_df['Count'].sum()\n",
    "\n",
    "Emotion_Max = Emotion_df.iloc[0, 0]\n",
    "Emotion_percent = str(round(Emotion_df.iloc[0, 2], 2))\n",
    "\n",
    "# Create the pie chart for emotion analysis\n",
    "fig = Emotion_df.iplot(kind='pie', labels='EMOTION', values='Count', pull=0.2, hole=0.2,\n",
    "                       colorscale='reds', textposition='outside', colors=['red', 'green', 'purple', 'orange', 'blue', 'yellow', 'pink'],\n",
    "                       textinfo='label+percent', title=\"Emotion Analysis\", world_readable=True, asFigure=True)\n",
    "\n",
    "ply.offline.plot(fig, filename=\"Emotion\")"
   ]
  },
  {
   "cell_type": "code",
   "execution_count": 28,
   "metadata": {},
   "outputs": [
    {
     "data": {
      "image/png": "[encoded data removed]",
      "text/plain": [
       "<Figure size 1170x827 with 1 Axes>"
      ]
     },
     "metadata": {},
     "output_type": "display_data"
    }
   ],
   "source": [
    "import pandas as pd\n",
    "import matplotlib.pyplot as plt\n",
    "import seaborn as sns\n",
    "\n",
    "# Set up figure size using seaborn\n",
    "sns.set(rc={'figure.figsize': (11.7, 8.27)})\n",
    "\n",
    "# Generate the crosstab of EMOTION vs Sentiment_label\n",
    "Result = pd.crosstab(twt.EMOTION, twt.Sentiment_label)\n",
    "\n",
    "# Manually sort the columns before plotting (sort by column names)\n",
    "Result = Result.sort_index(axis=1)\n",
    "\n",
    "# Plotting the stacked bar chart\n",
    "plt = Result.plot.bar(stacked=True)\n",
    "\n",
    "# Add legend title\n",
    "plt.legend(title='Sentiment_label')\n",
    "\n",
    "# Save the figure as a PNG file\n",
    "plt.figure.savefig('Emotion_Sentiment_stacked.png', dpi=400)"
   ]
  },
  {
   "cell_type": "code",
   "execution_count": null,
   "metadata": {},
   "outputs": [],
   "source": []
  }
 ],
 "metadata": {
  "kernelspec": {
   "display_name": "MachineLearning",
   "language": "python",
   "name": "python3"
  },
  "language_info": {
   "codemirror_mode": {
    "name": "ipython",
    "version": 3
   },
   "file_extension": ".py",
   "mimetype": "text/x-python",
   "name": "python",
   "nbconvert_exporter": "python",
   "pygments_lexer": "ipython3",
   "version": "3.11.10"
  }
 },
 "nbformat": 4,
 "nbformat_minor": 2
}
